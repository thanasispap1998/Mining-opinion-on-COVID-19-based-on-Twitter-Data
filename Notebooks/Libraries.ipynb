{
 "cells": [
  {
   "cell_type": "markdown",
   "metadata": {},
   "source": [
    "# Libraries"
   ]
  },
  {
   "cell_type": "code",
   "execution_count": null,
   "metadata": {
    "scrolled": false
   },
   "outputs": [],
   "source": [
    "#This notebook is called in every other notebook\n",
    "\n",
    "from textblob import TextBlob\n",
    "import tweepy\n",
    "import re\n",
    "from datetime import datetime as dt\n",
    "import matplotlib as mpl\n",
    "import time\n",
    "import numpy as np\n",
    "from random import randint\n",
    "from PIL import Image\n",
    "from plotly.subplots import make_subplots\n",
    "import seaborn as sns\n",
    "import nltk\n",
    "from sklearn.model_selection import *\n",
    "nltk.download('punkt')\n",
    "import os\n",
    "import glob\n",
    "from sklearn.feature_extraction.text import TfidfVectorizer  \n",
    "nltk.download('stopwords')\n",
    "from nltk.probability import FreqDist\n",
    "from nltk.tokenize import word_tokenize\n",
    "from nltk.corpus import stopwords\n",
    "import plotly.express as px\n",
    "from wordcloud import WordCloud, ImageColorGenerator \n",
    "import itertools\n",
    "import plotly.graph_objects as go\n",
    "import pandas as pd\n",
    "import mysql.connector as mysql\n",
    "import matplotlib.pyplot as plt\n",
    "import math\n",
    "from sklearn.metrics import classification_report, confusion_matrix, accuracy_score, mutual_info_score\n",
    "from sklearn.neighbors import KNeighborsClassifier\n",
    "from sklearn.tree import DecisionTreeClassifier\n",
    "from sklearn.ensemble import RandomForestClassifier\n",
    "from sklearn import svm\n",
    "from sklearn.linear_model import LogisticRegression, SGDClassifier\n",
    "from sklearn.naive_bayes import MultinomialNB\n",
    "from sklearn.ensemble import GradientBoostingClassifier\n",
    "from sklearn.neural_network import MLPClassifier\n",
    "from xgboost import XGBClassifier\n",
    "from sklearn.decomposition import PCA\n",
    "from sklearn.linear_model import PassiveAggressiveClassifier\n",
    "from keras.models import Sequential\n",
    "from keras.layers import Embedding, LSTM, Bidirectional, Dropout\n",
    "from keras.layers.core import Dense, SpatialDropout1D\n",
    "from keras.callbacks import EarlyStopping\n",
    "from keras.preprocessing.text import Tokenizer\n",
    "from keras.preprocessing.sequence import pad_sequences"
   ]
  }
 ],
 "metadata": {
  "kernelspec": {
   "display_name": "Python 3",
   "language": "python",
   "name": "python3"
  },
  "language_info": {
   "codemirror_mode": {
    "name": "ipython",
    "version": 3
   },
   "file_extension": ".py",
   "mimetype": "text/x-python",
   "name": "python",
   "nbconvert_exporter": "python",
   "pygments_lexer": "ipython3",
   "version": "3.8.8"
  }
 },
 "nbformat": 4,
 "nbformat_minor": 4
}
