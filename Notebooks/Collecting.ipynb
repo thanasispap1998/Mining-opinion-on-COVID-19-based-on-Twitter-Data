{
 "cells": [
  {
   "cell_type": "markdown",
   "metadata": {},
   "source": [
    "# Collecting the tweets"
   ]
  },
  {
   "cell_type": "markdown",
   "metadata": {},
   "source": [
    "## First to connect "
   ]
  },
  {
   "cell_type": "code",
   "execution_count": null,
   "metadata": {
    "scrolled": true
   },
   "outputs": [],
   "source": [
    "#We first run the Connecting notebook in order to make the connection with MySQL and Twitter\n",
    "\n",
    "%run Libraries.ipynb\n",
    "%run Connecting.ipynb"
   ]
  },
  {
   "cell_type": "markdown",
   "metadata": {},
   "source": [
    "## Streaming tweets with Tweepy"
   ]
  },
  {
   "cell_type": "code",
   "execution_count": null,
   "metadata": {},
   "outputs": [],
   "source": [
    "#The downloading procedure\n",
    "\n",
    "class MyStreamListener(tweepy.StreamListener):\n",
    "    \n",
    "    def on_status(self, status):\n",
    "        \n",
    "        #Avoid retweeted info\n",
    "      \n",
    "        if((not status.retweeted) and ('RT @' not in status.text)):\n",
    "        \n",
    "            #Extract info from tweets\n",
    "\n",
    "            id_str = status.id_str\n",
    "            created_at = status.created_at\n",
    "\n",
    "            #Clean the text from emojis\n",
    "\n",
    "            text = deEmojify(status.text) \n",
    "\n",
    "            sentiment = TextBlob(text).sentiment\n",
    "            polarity = sentiment.polarity\n",
    "\n",
    "            user_location = deEmojify(status.user.location)\n",
    "\n",
    "            print(\"\\n\")\n",
    "            print(status.text)\n",
    "\n",
    "            #Store the data collected into the database and the table the user has previously selected\n",
    "\n",
    "            if db.is_connected():\n",
    "\n",
    "                cursor = db.cursor()\n",
    "\n",
    "                query = \"INSERT INTO {} (id_str, created_at, text, polarity, user_location) VALUES (%s, %s, %s, %s, %s)\".format(table_name)\n",
    "                val = (id_str, created_at, text, polarity, user_location)\n",
    "\n",
    "                cursor.execute(query, val)\n",
    "                db.commit()\n",
    "                cursor.close()\n",
    "    \n",
    "    def on_error(self, status_code):\n",
    "\n",
    "        #Return false to stop the streaming\n",
    "        \n",
    "        if(status_code == 420):\n",
    "            \n",
    "            return False"
   ]
  },
  {
   "cell_type": "code",
   "execution_count": null,
   "metadata": {},
   "outputs": [],
   "source": [
    "#The function for removing ascii characters\n",
    "\n",
    "def deEmojify(text):\n",
    "\n",
    "    if text:\n",
    "        \n",
    "        return text.encode('ascii', 'ignore').decode('ascii')\n",
    "    \n",
    "    else:\n",
    "        \n",
    "        return None"
   ]
  },
  {
   "cell_type": "markdown",
   "metadata": {},
   "source": [
    "## Collecting the tweets based on specific track words"
   ]
  },
  {
   "cell_type": "code",
   "execution_count": null,
   "metadata": {},
   "outputs": [],
   "source": [
    "#Stream tweets only when the user has selected to create a new database and a new table or a new table in an existing database.\n",
    "    #In case the user chooses an existing database and table we fetch the data that is already collected there.\n",
    "\n",
    "if(answer_mysql == \"1\"):\n",
    "    \n",
    "    if(answer_db == \"1\" or answer_table == \"1\" or answer_collecting == '1'):\n",
    "    \n",
    "        track_words = ['vaccine']\n",
    "\n",
    "        myStreamListener = MyStreamListener()\n",
    "        myStream = tweepy.Stream(auth = api.auth, listener = myStreamListener)\n",
    "        myStream.filter(languages = [\"en\"],track = track_words)"
   ]
  }
 ],
 "metadata": {
  "kernelspec": {
   "display_name": "Python 3",
   "language": "python",
   "name": "python3"
  },
  "language_info": {
   "codemirror_mode": {
    "name": "ipython",
    "version": 3
   },
   "file_extension": ".py",
   "mimetype": "text/x-python",
   "name": "python",
   "nbconvert_exporter": "python",
   "pygments_lexer": "ipython3",
   "version": "3.8.8"
  }
 },
 "nbformat": 4,
 "nbformat_minor": 4
}
